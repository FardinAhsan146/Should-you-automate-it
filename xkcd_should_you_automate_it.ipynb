{
 "cells": [
  {
   "cell_type": "markdown",
   "metadata": {},
   "source": [
    "# XKCD  - Should you automate it?"
   ]
  },
  {
   "cell_type": "code",
   "execution_count": 1,
   "metadata": {},
   "outputs": [
    {
     "data": {
      "text/html": [
       "<img src=\"https://imgs.xkcd.com/comics/is_it_worth_the_time.png\"/>"
      ],
      "text/plain": [
       "<IPython.core.display.Image object>"
      ]
     },
     "execution_count": 1,
     "metadata": {},
     "output_type": "execute_result"
    }
   ],
   "source": [
    "from IPython.display import Image\n",
    "from IPython.core.display import HTML \n",
    "Image(url= \"https://imgs.xkcd.com/comics/is_it_worth_the_time.png\")"
   ]
  },
  {
   "cell_type": "markdown",
   "metadata": {},
   "source": [
    "\n",
    "This table gets posted a lot in programming forums, in order to poke fun at the idea that programmers will spend 5 hours failing to automate something rather than doing it manually in 5 minutes. \n",
    "\n",
    "This chart claims to guide you on figuring out if a task is worth automating or not.\n",
    "\n",
    "However the formula behind the chart is not obvious, so I figured, I should probably try to figure that out.\n",
    "\n"
   ]
  },
  {
   "cell_type": "code",
   "execution_count": 2,
   "metadata": {},
   "outputs": [
    {
     "name": "stdout",
     "output_type": "stream",
     "text": [
      "1.0561342592592593\n"
     ]
    }
   ],
   "source": [
    "#Checking cell[0][0]\n",
    "\n",
    "frequency = 50\n",
    "time_you_spend = 24*60*60\n",
    "timeframe = 5*365\n",
    "saved_unit = 1\n",
    "\n",
    "time_you_saved = frequency*saved_unit*timeframe\n",
    "\n",
    "\n",
    "print(time_you_saved/time_you_spend)"
   ]
  },
  {
   "cell_type": "markdown",
   "metadata": {},
   "source": [
    "It seems like if time saved is 5% more than time spent, then its worth it to the creator of the image, need to try with another cell."
   ]
  },
  {
   "cell_type": "code",
   "execution_count": 3,
   "metadata": {},
   "outputs": [
    {
     "name": "stdout",
     "output_type": "stream",
     "text": [
      "1.2673611111111112\n"
     ]
    }
   ],
   "source": [
    "#Checking cell[0][1]\n",
    "\n",
    "frequency = 5\n",
    "time_you_spend = 2*60*60\n",
    "timeframe = 5*365\n",
    "saved_unit = 1\n",
    "\n",
    "time_you_saved = frequency*saved_unit*timeframe\n",
    "\n",
    "print(time_you_saved/time_you_spend)"
   ]
  },
  {
   "cell_type": "markdown",
   "metadata": {},
   "source": [
    "26% more this time, hmmmm, need to try with another cell."
   ]
  },
  {
   "cell_type": "code",
   "execution_count": 4,
   "metadata": {},
   "outputs": [
    {
     "name": "stdout",
     "output_type": "stream",
     "text": [
      "1.034580498866213\n"
     ]
    }
   ],
   "source": [
    "#Checking cell[3][4]\n",
    "\n",
    "frequency = 1/7\n",
    "time_you_spend = 21*60*60\n",
    "timeframe = 5*365\n",
    "saved_unit = 5*60\n",
    "\n",
    "time_you_saved = frequency*saved_unit*timeframe\n",
    "\n",
    "\n",
    "print(time_you_saved/time_you_spend)"
   ]
  },
  {
   "cell_type": "markdown",
   "metadata": {},
   "source": [
    "3% more this time. So its safe to confirm he doesn't have a solid criteria, but more of a hunch, which I should have realized instantly given all the cells are clean numbers and not floats like 3.0583 days; That over 5 years if the ratio of time spent automating to time saved is in the favor of time saved then its all good. Maybe a more general function would be better. \n",
    "\n",
    "Hasty conclusion? Maybe, but I would rather spend 2 minutes testing 3 random cells than turning his table into a dataframe and reaching the same conclusion with 99% confidence after 2 hours. "
   ]
  },
  {
   "cell_type": "code",
   "execution_count": 44,
   "metadata": {},
   "outputs": [],
   "source": [
    "import typing\n",
    "import re\n",
    "\n",
    "def should_you_automate_it(frequency: str,time_saved: str,time_range: str):\n",
    "    # Yes 90% of the function is user input string formatting.\n",
    "    \"\"\"\n",
    "    Args:\n",
    "    frequency = How many times per unit of time do you plan to do the task\n",
    "        format = \"1 / hour\", float seperated by \"/\" then unit in str (from seconds to years)\n",
    "        white space doesn't matter\n",
    "    \n",
    "    time_saved = How much time would automation save every time you do said thing\n",
    "        format = \"1  hour\", float seperated by unit in str (from seconds to years)\n",
    "        \n",
    "    time_range = Over how long will you use said automation\n",
    "        format = \"1  hour\", float seperated by unit in str (from seconds to years)\n",
    "        \n",
    "        \n",
    "        Formatting is such that it's easier to take user input in whatever units they want\n",
    "        \n",
    "    \"\"\"\n",
    "    \n",
    "    def preprocess_time(s: str):\n",
    "        \"\"\"\n",
    "        splits a number followed by a string and returns a tuple\n",
    "        \n",
    "        \"\"\"\n",
    "        pattern = re.compile(r'\\s+')\n",
    "        s = re.sub(pattern, '', s)\n",
    "        match = re.match(r\"([0-9]+)([a-z]+)\", s, re.I)\n",
    "        if match:\n",
    "            return match.groups()\n",
    "        \n",
    "    def preprocess_time_relative(s: str):\n",
    "        \n",
    "        \"\"\"\n",
    "        splits into parts like previous function\n",
    "        \"\"\"\n",
    "    \n",
    "        return re.findall(r\"[\\w']+|[/]\",s)\n",
    "    \n",
    "    def secondsToText(secs: float):\n",
    "        days = secs//86400\n",
    "        hours = (secs - days*86400)//3600\n",
    "        minutes = (secs - days*86400 - hours*3600)//60\n",
    "        seconds = secs - days*86400 - hours*3600 - minutes*60\n",
    "        result = (\"{0} day{1}, \".format(days, \"s\" if days!=1 else \"\") if days else \"\") + \\\n",
    "        (\"{0} hour{1}, \".format(hours, \"s\" if hours!=1 else \"\") if hours else \"\") + \\\n",
    "        (\"{0} minute{1}, \".format(minutes, \"s\" if minutes!=1 else \"\") if minutes else \"\") + \\\n",
    "        (\"{0} second{1}, \".format(seconds, \"s\" if seconds!=1 else \"\") if seconds else \"\")\n",
    "        return result\n",
    "    \n",
    "    \n",
    "    plural_dict = {'second': 1, 'minute': 60, 'hour': 60*60 \n",
    "                   ,'day': 60*60*24, 'week': 60*60*24*7, 'month': 60*60*24*30\n",
    "                   , 'year' : 60*60*24*365 } #Convert all to seconds to make my job easier.\n",
    "    \n",
    "    frequency_number, frequency_unit = float(preprocess_time_relative(frequency)[0]), preprocess_time_relative(frequency)[2]\n",
    "    time_saved_number, time_saved_unit = float(preprocess_time(time_saved)[0]),preprocess_time(time_saved)[1]\n",
    "    time_range_number, time_range_unit = float(preprocess_time(time_range)[0]),preprocess_time(time_range)[1]\n",
    "    \n",
    "    plural_dict_multiplier_freq = plural_dict[frequency_unit] \n",
    "    plural_dict_multiplier_saved = plural_dict[time_saved_unit[0:-1]] if time_saved_number != 1 else plural_dict[time_saved_unit]\n",
    "    plural_dict_multiplier_range = plural_dict[time_range_unit[0:-1]] if time_range_number != 1 else plural_dict[time_range_unit]\n",
    "    \n",
    "    frequency_cal = frequency_number/plural_dict[frequency_unit]\n",
    "    saved_cal = (time_saved_number*plural_dict_multiplier_saved)\n",
    "    range_cal = (time_range_number*plural_dict_multiplier_range)\n",
    "    \n",
    "    total_time_saved = frequency_cal*saved_cal*range_cal\n",
    "    \n",
    "    \n",
    "    #Sanity check\n",
    "    \n",
    "    total_time_needed = frequency_number*plural_dict_multiplier_saved\n",
    "    \n",
    "    if total_time_needed > plural_dict_multiplier_freq:\n",
    "        print(\"Frequency times time saved is more than total per unit check your inputs\")\n",
    "    else:\n",
    "        print(f\"Spend no more than {secondsToText(total_time_saved)}to automate the task.\")\n",
    "        return total_time_saved\n",
    "    "
   ]
  },
  {
   "cell_type": "code",
   "execution_count": 45,
   "metadata": {},
   "outputs": [
    {
     "name": "stdout",
     "output_type": "stream",
     "text": [
      "Frequency times time saved is more than total per unit check your inputs\n"
     ]
    }
   ],
   "source": [
    "should_you_automate_it(\"50 / day\",\"1 hour\",\"5 years\")"
   ]
  },
  {
   "cell_type": "code",
   "execution_count": 46,
   "metadata": {},
   "outputs": [
    {
     "name": "stdout",
     "output_type": "stream",
     "text": [
      "Spend no more than 63.0 days, 8.0 hours, 50.0 minutes, to automate the task.\n"
     ]
    },
    {
     "data": {
      "text/plain": [
       "5475000.0"
      ]
     },
     "execution_count": 46,
     "metadata": {},
     "output_type": "execute_result"
    }
   ],
   "source": [
    "should_you_automate_it(\"50 / day\",\"1 minute\",\"5 years\")"
   ]
  },
  {
   "cell_type": "code",
   "execution_count": 47,
   "metadata": {},
   "outputs": [
    {
     "name": "stdout",
     "output_type": "stream",
     "text": [
      "Spend no more than 5.0 days, to automate the task.\n"
     ]
    },
    {
     "data": {
      "text/plain": [
       "432000.0"
      ]
     },
     "execution_count": 47,
     "metadata": {},
     "output_type": "execute_result"
    }
   ],
   "source": [
    "should_you_automate_it(\"100 / hour\",\"2 seconds\",\"3 months\")"
   ]
  }
 ],
 "metadata": {
  "kernelspec": {
   "display_name": "Python 3",
   "language": "python",
   "name": "python3"
  },
  "language_info": {
   "codemirror_mode": {
    "name": "ipython",
    "version": 3
   },
   "file_extension": ".py",
   "mimetype": "text/x-python",
   "name": "python",
   "nbconvert_exporter": "python",
   "pygments_lexer": "ipython3",
   "version": "3.8.5"
  }
 },
 "nbformat": 4,
 "nbformat_minor": 4
}
